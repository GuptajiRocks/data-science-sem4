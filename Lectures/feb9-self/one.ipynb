{
 "cells": [
  {
   "cell_type": "code",
   "execution_count": 2,
   "metadata": {},
   "outputs": [],
   "source": [
    "import pandas as pd\n",
    "import matplotlib.pyplot as plt\n",
    "from sklearn.preprocessing import StandardScaler\n",
    "df = pd.read_csv(\"l1.csv\")"
   ]
  },
  {
   "cell_type": "code",
   "execution_count": 3,
   "metadata": {},
   "outputs": [],
   "source": [
    "df_CLGO = df.iloc[0:5]      # Index 1-5\n",
    "df_Comms = df.iloc[5:10]    # Index 6-10\n",
    "df_Customer = df.iloc[10:15]  # Index 11-15\n",
    "df_Mgmt = df.iloc[15:20]    # Index 16-20\n",
    "df_Dept = df.iloc[20:25]    # Index 21-25\n",
    "df_Teamwork = df.iloc[25:29]  # Index 26-29\n",
    "df_Procedures = df.iloc[29:33]  # Index 30-33\n",
    "df_Equality = df.iloc[33:39]  # Index 34-39\n",
    "df_Appraisals = df.iloc[39:43]  # Index 40-43\n",
    "df_Compensation = df.iloc[43:47]  # Index 44-47\n",
    "df_Benefits = df.iloc[47:50]  # Index 48-50\n",
    "df_Job_Security = df.iloc[50:53]  # Index 51-53\n",
    "df_WLB = df.iloc[53:56]  # Index 54-56\n",
    "df_Recognition = df.iloc[56:60]  # Index 57-60\n",
    "df_Respect = df.iloc[60:64]  # Index 61-64\n",
    "df_Indi_Dev = df.iloc[64:68]  # Index 65-68\n",
    "df_Satisfaction = df.iloc[68:71]  # Index 69-71\n",
    "df_Resources = df.iloc[71:75]  # Index 72-75\n",
    "df_Training = df.iloc[75:78]"
   ]
  },
  {
   "cell_type": "code",
   "execution_count": 4,
   "metadata": {},
   "outputs": [
    {
     "name": "stdout",
     "output_type": "stream",
     "text": [
      "156 to 131 number of employees find their opinion to be excellent in all matters.\n"
     ]
    }
   ],
   "source": [
    "dfE = df[\"E\"]\n",
    "#print(round(dfE.std(),4))\n",
    "\n",
    "upp = dfE.mean() + dfE.std()\n",
    "low = dfE.mean() - dfE.std()\n",
    "\n",
    "print(f\"{round(upp)} to {round(low)} number of employees find their opinion to be excellent in all matters.\")"
   ]
  },
  {
   "cell_type": "code",
   "execution_count": 5,
   "metadata": {},
   "outputs": [
    {
     "name": "stdout",
     "output_type": "stream",
     "text": [
      "-1 to -1 number of employees find their opinion to be Poor in all matters.\n"
     ]
    }
   ],
   "source": [
    "dfP = df[\"P\"]\n",
    "uppp = dfP.mean() -  dfP.std()\n",
    "lowp = dfP.mean() - dfP.std()\n",
    "\n",
    "print(f\"{round(uppp)} to {round(lowp)} number of employees find their opinion to be Poor in all matters.\")\n",
    "\n"
   ]
  },
  {
   "cell_type": "code",
   "execution_count": 43,
   "metadata": {},
   "outputs": [
    {
     "data": {
      "image/png": "[encoded data removed]",
      "text/plain": [
       "<Figure size 640x480 with 1 Axes>"
      ]
     },
     "metadata": {},
     "output_type": "display_data"
    }
   ],
   "source": [
    "#print(df_CLGO[[\"E\",\"G\",\"F\",\"P\"]])\n",
    "dfo1 = df[(df[\"S.NO.\"] >= 30) & (df[\"S.NO.\"] <= 40)]\n",
    "dfo2 = df[(df[\"S.NO.\"] >= 45) & (df[\"S.NO.\"] <= 50)]\n",
    "dfo3 = df[(df[\"S.NO.\"] >= 60) & (df[\"S.NO.\"] <= 70)]\n",
    "\n",
    "plt.bar(dfo1[\"S.NO.\"], dfo1[\"E\"])\n",
    "plt.bar(dfo2[\"S.NO.\"], dfo2[\"E\"])\n",
    "plt.bar(dfo3[\"S.NO.\"], dfo3[\"E\"])\n",
    "plt.title(\"E marked in Overall Questionnare\")\n",
    "plt.show()"
   ]
  },
  {
   "cell_type": "markdown",
   "metadata": {},
   "source": [
    "We can see that for an Average of 143 employees have answered Excellent in the overall questionnare.\n",
    "4 major Outliers Exist, wherein in these 4 questions, below average employees have favored the Excellent option.\n",
    "Let's focus on that.\n",
    "\n",
    "Q33, Q49, Q65, Q66"
   ]
  },
  {
   "cell_type": "code",
   "execution_count": 54,
   "metadata": {},
   "outputs": [
    {
     "name": "stdout",
     "output_type": "stream",
     "text": [
      "    S.NO.    E    G   F  P  VP  TOTAL    E %    G %   F %   P %  VP %\n",
      "32     33  111  223  24  2   0    360  30.83  61.94  6.67  0.56   0.0\n"
     ]
    }
   ],
   "source": [
    "# Q33\n",
    "df33 = df[df[\"S.NO.\"] == 33]\n",
    "print(df33)"
   ]
  },
  {
   "cell_type": "markdown",
   "metadata": {},
   "source": [
    "Here we can see"
   ]
  }
 ],
 "metadata": {
  "kernelspec": {
   "display_name": "Python 3",
   "language": "python",
   "name": "python3"
  },
  "language_info": {
   "codemirror_mode": {
    "name": "ipython",
    "version": 3
   },
   "file_extension": ".py",
   "mimetype": "text/x-python",
   "name": "python",
   "nbconvert_exporter": "python",
   "pygments_lexer": "ipython3",
   "version": "3.12.4"
  }
 },
 "nbformat": 4,
 "nbformat_minor": 2
}
