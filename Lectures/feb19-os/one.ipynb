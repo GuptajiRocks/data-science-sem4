{
 "cells": [
  {
   "cell_type": "code",
   "execution_count": 2,
   "metadata": {},
   "outputs": [
    {
     "name": "stdout",
     "output_type": "stream",
     "text": [
      "['The', 'wind', 'is', 'high', 'today']\n"
     ]
    }
   ],
   "source": [
    "import pandas as pd\n",
    "import nltk as nt\n",
    "# TF-IDF\n",
    "sent1 = \"The wind is high today\"\n",
    "sent2 = \"Wind is high tomorrow\"\n",
    "sent3 = \"Today the wind does good\"\n",
    "\n",
    "s1l = nt.word_tokenize(sent1)\n",
    "print(s1l)\n",
    "\n"
   ]
  }
 ],
 "metadata": {
  "kernelspec": {
   "display_name": "Python 3",
   "language": "python",
   "name": "python3"
  },
  "language_info": {
   "codemirror_mode": {
    "name": "ipython",
    "version": 3
   },
   "file_extension": ".py",
   "mimetype": "text/x-python",
   "name": "python",
   "nbconvert_exporter": "python",
   "pygments_lexer": "ipython3",
   "version": "3.12.4"
  }
 },
 "nbformat": 4,
 "nbformat_minor": 2
}
