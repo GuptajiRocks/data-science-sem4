{
 "cells": [
  {
   "cell_type": "code",
   "execution_count": 1,
   "id": "f0fe0ff8",
   "metadata": {},
   "outputs": [],
   "source": [
    "import pandas as pd"
   ]
  },
  {
   "cell_type": "code",
   "execution_count": 6,
   "id": "43c3410a",
   "metadata": {},
   "outputs": [
    {
     "name": "stdout",
     "output_type": "stream",
     "text": [
      "<bound method NDFrame.head of             Date Ticker          Open          High           Low  \\\n",
      "0     2020-01-02    DJI  28638.970703  28872.800781  28627.769531   \n",
      "1     2020-01-03    DJI  28553.330078  28716.310547  28500.359375   \n",
      "2     2020-01-06    DJI  28465.500000  28708.019531  28418.630859   \n",
      "3     2020-01-07    DJI  28639.179688  28685.500000  28565.279297   \n",
      "4     2020-01-08    DJI  28556.140625  28866.179688  28522.509766   \n",
      "...          ...    ...           ...           ...           ...   \n",
      "1307  2025-03-17    DJI  41460.218750  42013.101562  41412.750000   \n",
      "1308  2025-03-18    DJI  41772.910156  41787.250000  41415.429688   \n",
      "1309  2025-03-19    DJI  41613.191406  42178.410156  41613.191406   \n",
      "1310  2025-03-20    DJI  41795.261719  42250.289062  41695.609375   \n",
      "1311  2025-03-21    DJI  41763.398438  42011.398438  41433.859375   \n",
      "\n",
      "             Close      Adjusted   Returns      Volume  \n",
      "0     28868.800781  28868.800781       NaN   251820000  \n",
      "1     28634.880859  28634.880859 -0.008103   239590000  \n",
      "2     28703.380859  28703.380859  0.002392   252760000  \n",
      "3     28583.679688  28583.679688 -0.004170   258900000  \n",
      "4     28745.089844  28745.089844  0.005647   291750000  \n",
      "...            ...           ...       ...         ...  \n",
      "1307  41841.628906  41841.628906  0.008519   564190000  \n",
      "1308  41581.308594  41581.308594 -0.006222   569810000  \n",
      "1309  41964.628906  41964.628906  0.009219   577530000  \n",
      "1310  41953.320312  41953.320312 -0.000269   545240000  \n",
      "1311  41985.351562  41985.351562  0.000763  1026600000  \n",
      "\n",
      "[1312 rows x 9 columns]>\n",
      "Index(['Date', 'Ticker', 'Open', 'High', 'Low', 'Close', 'Adjusted', 'Returns',\n",
      "       'Volume'],\n",
      "      dtype='object')\n"
     ]
    }
   ],
   "source": [
    "df = pd.read_csv(\"Dow_Jones.csv\")\n",
    "#print(df[\"Ticker\"].unique)\n",
    "print(df.head)\n",
    "print(df.columns)"
   ]
  }
 ],
 "metadata": {
  "kernelspec": {
   "display_name": "Python 3",
   "language": "python",
   "name": "python3"
  },
  "language_info": {
   "codemirror_mode": {
    "name": "ipython",
    "version": 3
   },
   "file_extension": ".py",
   "mimetype": "text/x-python",
   "name": "python",
   "nbconvert_exporter": "python",
   "pygments_lexer": "ipython3",
   "version": "3.12.4"
  }
 },
 "nbformat": 4,
 "nbformat_minor": 5
}
