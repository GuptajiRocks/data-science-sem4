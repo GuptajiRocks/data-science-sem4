{
 "cells": [
  {
   "cell_type": "code",
   "execution_count": null,
   "id": "f0fe0ff8",
   "metadata": {},
   "outputs": [],
   "source": [
    "import pandas as pd"
   ]
  },
  {
   "cell_type": "code",
   "execution_count": null,
   "id": "43c3410a",
   "metadata": {},
   "outputs": [
    {
     "name": "stdout",
     "output_type": "stream",
     "text": [
      "<bound method Series.count of 0       False\n",
      "1       False\n",
      "2       False\n",
      "3        True\n",
      "4       False\n",
      "        ...  \n",
      "1307    False\n",
      "1308     True\n",
      "1309    False\n",
      "1310    False\n",
      "1311    False\n",
      "Length: 1312, dtype: bool>\n"
     ]
    }
   ],
   "source": [
    "df = pd.read_csv(\"Dow_Jones.csv\")\n",
    "#print(df[\"Ticker\"].unique)\n",
    "# print(df.head)\n",
    "#print(df.columns)\n",
    "print(((df[\"Open\"] - df[\"Close\"]) > 0))"
   ]
  }
 ],
 "metadata": {
  "kernelspec": {
   "display_name": "Python 3",
   "language": "python",
   "name": "python3"
  },
  "language_info": {
   "codemirror_mode": {
    "name": "ipython",
    "version": 3
   },
   "file_extension": ".py",
   "mimetype": "text/x-python",
   "name": "python",
   "nbconvert_exporter": "python",
   "pygments_lexer": "ipython3",
   "version": "3.12.4"
  }
 },
 "nbformat": 4,
 "nbformat_minor": 5
}
